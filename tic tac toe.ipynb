{
 "cells": [
  {
   "cell_type": "code",
   "execution_count": 1,
   "id": "ff847a93",
   "metadata": {},
   "outputs": [],
   "source": [
    "def welcome():\n",
    "    print('*****welcome to tic tac toe******')\n",
    "    dsss=False\n",
    "    ch=0\n",
    "    while dsss==False:\n",
    "        choice=input('player 1 choose X or O : ')\n",
    "        if choice=='X' or choice=='O':\n",
    "            dsss=True\n",
    "        else:\n",
    "            print('please choose correct option')\n",
    "    return choice \n",
    "    "
   ]
  },
  {
   "cell_type": "code",
   "execution_count": 2,
   "id": "c082de41",
   "metadata": {},
   "outputs": [],
   "source": [
    "a=['1','2','3']\n",
    "b=['4','5','6']\n",
    "c=['7','8','9']\n",
    "def board(a,b,c):\n",
    "    print(a)\n",
    "    print(b)\n",
    "    print(c)\n",
    "\n",
    "    \n",
    "    \n",
    "    "
   ]
  },
  {
   "cell_type": "code",
   "execution_count": 3,
   "id": "d4d70cde",
   "metadata": {},
   "outputs": [],
   "source": [
    "def input_1():\n",
    "    in1=input('player 1 : enter your position where you want to add (1-9) : ')\n",
    "    while in1 not in ['1','2','3','4','5','6','7','8','9']:\n",
    "        in1=input('please enter a valid ans : ')\n",
    "    \n",
    "    return  in1"
   ]
  },
  {
   "cell_type": "code",
   "execution_count": 4,
   "id": "1634a8a1",
   "metadata": {},
   "outputs": [],
   "source": [
    "def input_2():\n",
    "    in2=input('player 2 : enter your position where you want to add (1-9) : ')\n",
    "    while in2 not in ['1','2','3','4','5','6','7','8','9']:\n",
    "        in2=input('please enter a valid ans : ')\n",
    "    \n",
    "    return  in2"
   ]
  },
  {
   "cell_type": "code",
   "execution_count": 5,
   "id": "8b00d0ea",
   "metadata": {},
   "outputs": [],
   "source": [
    "def replacement1(input1):\n",
    "    iinput1=int(input1)\n",
    "    if iinput1 in [1,2,3]:\n",
    "        a[iinput1-1]=choice\n",
    "    elif iinput1 in [4,5,6]:\n",
    "        b[iinput1-4]=choice\n",
    "    elif iinput1 in [7,8,9]:\n",
    "        c[iinput1-7]=choice\n",
    "    \n",
    "    \n",
    "    \n"
   ]
  },
  {
   "cell_type": "code",
   "execution_count": 6,
   "id": "b68a0293",
   "metadata": {},
   "outputs": [],
   "source": [
    "def replacement2(input2):\n",
    "    iinput2=int(input2)\n",
    "    if iinput2 in [1,2,3]:\n",
    "        a[iinput2-1]=choice2\n",
    "    elif iinput2 in [4,5,6]:\n",
    "        b[iinput2-4]=choice2\n",
    "    elif iinput2 in [7,8,9]:\n",
    "        c[iinput2-7]=choice2\n",
    "    "
   ]
  },
  {
   "cell_type": "code",
   "execution_count": 7,
   "id": "ed8eecb4",
   "metadata": {},
   "outputs": [],
   "source": [
    "def cc(choice):\n",
    "    if choice=='X':\n",
    "        choice2='O'\n",
    "    else:\n",
    "        choice2='X'\n",
    "    return choice2\n",
    "    "
   ]
  },
  {
   "cell_type": "code",
   "execution_count": 8,
   "id": "6ebd7394",
   "metadata": {},
   "outputs": [],
   "source": [
    "def gameon():\n",
    "    ggg='kk'\n",
    "    while ggg=='kk':\n",
    "        game=input('wanna play again (Y/N)')\n",
    "        if game=='Y' or game=='N':\n",
    "            ggg='f'\n",
    "        else:\n",
    "            print('please enter a valid ans')\n",
    "    return game   \n",
    "        \n",
    "    \n"
   ]
  },
  {
   "cell_type": "code",
   "execution_count": null,
   "id": "b1d9e73f",
   "metadata": {
    "scrolled": true
   },
   "outputs": [
    {
     "name": "stdout",
     "output_type": "stream",
     "text": [
      "['1', '2', 'X']\n",
      "['4', 'O', '6']\n",
      "['O', '8', 'X']\n"
     ]
    }
   ],
   "source": [
    "from IPython.display import clear_output\n",
    "haha='jj'\n",
    "while haha=='jj':\n",
    "    \n",
    "    choice=welcome()\n",
    "    choice2=cc(choice)\n",
    "    h='0'\n",
    "    while h=='0':\n",
    "        clear_output()\n",
    "        board(a,b,c)\n",
    "        input1=input_1()\n",
    "        replacement1(input1)\n",
    "        board(a,b,c)\n",
    "        if ((a[0]==a[1]) and (a[1]==a[2])) or((b[0]==b[1]) and (b[1]==b[2] ))or ((c[0]==c[1]and c[1]==c[2]) or (a[0]==b[0] and b[0]==c[0]) or (a[1]==b[0] and b[1]==c[1]) or (a[2]==b[2] and b[2]==c[2]) or (a[0]==b[1] and b[1]==c[2]) or  (a[2]==b[1] and b[1]==c[0])) :\n",
    "            h=1\n",
    "        else:\n",
    "            input2=input_2()\n",
    "            replacement2(input2)\n",
    "            if ((a[0]==a[1]) and (a[1]==a[2])) or((b[0]==b[1]) and (b[1]==b[2] ))or ((c[0]==c[1]and c[1]==c[2]) or (a[0]==b[0] and b[0]==c[0]) or (a[1]==b[0] and b[1]==c[1]) or (a[2]==b[2] and b[2]==c[2]) or (a[0]==b[1] and b[1]==c[2]) or  (a[2]==b[1] and b[1]==c[0])):\n",
    "                h=1\n",
    "    print('Game end!!')\n",
    "    gg=gameon()\n",
    "    if gg=='N':\n",
    "        haha='k'\n",
    "    else:\n",
    "        a=['1','2','3']\n",
    "        b=['4','5','6']\n",
    "        c=['7','8','9']\n",
    "        clear_output()\n",
    "    "
   ]
  },
  {
   "cell_type": "code",
   "execution_count": null,
   "id": "7c9de4d3",
   "metadata": {},
   "outputs": [],
   "source": []
  }
 ],
 "metadata": {
  "kernelspec": {
   "display_name": "Python 3 (ipykernel)",
   "language": "python",
   "name": "python3"
  },
  "language_info": {
   "codemirror_mode": {
    "name": "ipython",
    "version": 3
   },
   "file_extension": ".py",
   "mimetype": "text/x-python",
   "name": "python",
   "nbconvert_exporter": "python",
   "pygments_lexer": "ipython3",
   "version": "3.11.5"
  }
 },
 "nbformat": 4,
 "nbformat_minor": 5
}
